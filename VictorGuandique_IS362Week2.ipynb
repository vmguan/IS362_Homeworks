{
 "cells": [
  {
   "cell_type": "markdown",
   "metadata": {},
   "source": [
    "# USING ZIP() FUNCTION IN PYTHON"
   ]
  },
  {
   "cell_type": "markdown",
   "metadata": {},
   "source": [
    "### The zip() function combine multiple iterable objects into a single iterable entity: "
   ]
  },
  {
   "cell_type": "code",
   "execution_count": 3,
   "metadata": {},
   "outputs": [
    {
     "data": {
      "text/plain": [
       "[('Mammal', 'Dog'),\n",
       " ('Fish', 'Shark'),\n",
       " ('Ape', 'Gorilla'),\n",
       " ('Reptile', 'Alligator')]"
      ]
     },
     "execution_count": 3,
     "metadata": {},
     "output_type": "execute_result"
    }
   ],
   "source": [
    "list1 = ['Mammal', 'Fish', 'Ape', 'Reptile']\n",
    "list2 = ['Dog', 'Shark', 'Gorilla', 'Alligator']\n",
    "\n",
    "[pair for pair in zip (list1, list2)]"
   ]
  },
  {
   "cell_type": "markdown",
   "metadata": {},
   "source": [
    "### The lists of elements to be combined using zip() could be the same or different lengths. However, if they have different lenghts zip will stop as soon as the elements on the first list ends. "
   ]
  },
  {
   "cell_type": "code",
   "execution_count": 4,
   "metadata": {},
   "outputs": [
    {
     "data": {
      "text/plain": [
       "[('Mammal', 'Dog'), ('Fish', 'Shark'), ('Ape', 'Gorilla')]"
      ]
     },
     "execution_count": 4,
     "metadata": {},
     "output_type": "execute_result"
    }
   ],
   "source": [
    "list1 = ['Mammal', 'Fish', 'Ape']\n",
    "list2 = ['Dog', 'Shark', 'Gorilla', \"Alligator\"]\n",
    "\n",
    "[pair for pair in zip (list1, list2)]"
   ]
  },
  {
   "cell_type": "markdown",
   "metadata": {},
   "source": [
    "### To unzip the elements and get back the original list we use the asterisk (*)"
   ]
  },
  {
   "cell_type": "code",
   "execution_count": 13,
   "metadata": {
    "scrolled": true
   },
   "outputs": [
    {
     "name": "stdout",
     "output_type": "stream",
     "text": [
      "('Mammal', 'Fish', 'Ape', 'Reptile') ('Dog', 'Shark', 'Gorilla', 'Alligator')\n"
     ]
    }
   ],
   "source": [
    "pairs = [('Mammal','Dog'), ('Fish','Shark'), ('Ape','Gorilla'), ('Reptile','Alligator')]\n",
    "list1, list2 = zip(*pairs)\n",
    "print(list1, list2)"
   ]
  },
  {
   "cell_type": "markdown",
   "metadata": {},
   "source": [
    "### Another way to unzip the elements is: "
   ]
  },
  {
   "cell_type": "code",
   "execution_count": 15,
   "metadata": {},
   "outputs": [
    {
     "name": "stdout",
     "output_type": "stream",
     "text": [
      "('Mammal', 'Fish', 'Ape', 'Reptile') ('Dog', 'Shark', 'Gorilla', 'Alligator')\n"
     ]
    }
   ],
   "source": [
    "list1, list2 = zip (('Mammal','Dog'), ('Fish','Shark'), ('Ape','Gorilla'), ('Reptile','Alligator'))\n",
    "print(list1, list2)"
   ]
  },
  {
   "cell_type": "code",
   "execution_count": null,
   "metadata": {},
   "outputs": [],
   "source": []
  }
 ],
 "metadata": {
  "kernelspec": {
   "display_name": "Python 3",
   "language": "python",
   "name": "python3"
  },
  "language_info": {
   "codemirror_mode": {
    "name": "ipython",
    "version": 3
   },
   "file_extension": ".py",
   "mimetype": "text/x-python",
   "name": "python",
   "nbconvert_exporter": "python",
   "pygments_lexer": "ipython3",
   "version": "3.8.5"
  }
 },
 "nbformat": 4,
 "nbformat_minor": 4
}
