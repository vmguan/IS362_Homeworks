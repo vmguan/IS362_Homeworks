{
 "cells": [
  {
   "cell_type": "markdown",
   "metadata": {},
   "source": [
    "# <Center>Pandas Series</Center>"
   ]
  },
  {
   "cell_type": "markdown",
   "metadata": {},
   "source": [
    "### Suppose you have ridden a bicycle from New York City to Key West, Florida.  Your bicycle odometer shows the total miles, which you have dutifully logged at the end of each day with paper and pencil.  Your first two entries might be 55 and 120, indicating that you rode your bike 55 miles on day 1 and 65 miles on day 2. Create a pandas Series object that holds the cumulative miles at the end of each day"
   ]
  },
  {
   "cell_type": "code",
   "execution_count": 4,
   "metadata": {},
   "outputs": [],
   "source": [
    "# import numpy and pandas\n",
    "import numpy as np\n",
    "import pandas as pd\n",
    "\n",
    "# creating labels and cumulative miles per day.\n",
    "labels = ['day1', 'day2', 'day3', 'day4', 'day5']\n",
    "miles_rec = ([55,120,195,280,375])\n",
    "\n",
    "# Save the cumulative miles per day\n",
    "total_miles_day= pd.Series(miles_rec, index=labels)"
   ]
  },
  {
   "cell_type": "markdown",
   "metadata": {},
   "source": [
    "### Show the total miles that you rode each day"
   ]
  },
  {
   "cell_type": "code",
   "execution_count": 5,
   "metadata": {},
   "outputs": [
    {
     "name": "stdout",
     "output_type": "stream",
     "text": [
      "day1 55\n",
      "day2 65\n",
      "day3 75\n",
      "day4 85\n",
      "day5 95\n"
     ]
    }
   ],
   "source": [
    "# Create an array to hold the miles per day\n",
    "miles_per_day = np.array([total_miles_day[0]])\n",
    "\n",
    "# Iterate to calculate the miles rode per day and put them on the array.\n",
    "for i in range (1,len(total_miles_day)):\n",
    "    miles_per_day = np.append(miles_per_day, total_miles_day[i]-total_miles_day[i-1])\n",
    "\n",
    "# Print the miles rode per day\n",
    "for x,y in zip(labels, miles_per_day):\n",
    "  print(x, y)\n",
    " "
   ]
  },
  {
   "cell_type": "code",
   "execution_count": null,
   "metadata": {},
   "outputs": [],
   "source": []
  }
 ],
 "metadata": {
  "kernelspec": {
   "display_name": "Python 3",
   "language": "python",
   "name": "python3"
  },
  "language_info": {
   "codemirror_mode": {
    "name": "ipython",
    "version": 3
   },
   "file_extension": ".py",
   "mimetype": "text/x-python",
   "name": "python",
   "nbconvert_exporter": "python",
   "pygments_lexer": "ipython3",
   "version": "3.8.5"
  }
 },
 "nbformat": 4,
 "nbformat_minor": 4
}
