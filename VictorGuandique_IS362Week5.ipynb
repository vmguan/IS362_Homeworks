{
 "cells": [
  {
   "cell_type": "markdown",
   "metadata": {},
   "source": [
    "# Week 5 Assignment "
   ]
  },
  {
   "cell_type": "markdown",
   "metadata": {},
   "source": [
    "## Perform analysis to find the northernmost airport, the easternmost airport and the airport in NY with the windies weather on Feb 12th 2013"
   ]
  },
  {
   "cell_type": "code",
   "execution_count": 1,
   "metadata": {},
   "outputs": [],
   "source": [
    "# Import pandas and numpy\n",
    "import pandas as pd\n",
    "import numpy as np\n",
    "from pandas import DataFrame, Series"
   ]
  },
  {
   "cell_type": "markdown",
   "metadata": {},
   "source": [
    "### Read the file with information about airports (airports.csv) "
   ]
  },
  {
   "cell_type": "code",
   "execution_count": 2,
   "metadata": {},
   "outputs": [],
   "source": [
    "airports = pd.read_csv('/Users/vguan/Documents/SPS/IS362/Week 5/airports.csv')"
   ]
  },
  {
   "cell_type": "markdown",
   "metadata": {},
   "source": [
    "### Shows the missing values on airports.csv"
   ]
  },
  {
   "cell_type": "code",
   "execution_count": 3,
   "metadata": {},
   "outputs": [
    {
     "data": {
      "text/plain": [
       "1        0\n",
       "faa      0\n",
       "name     0\n",
       "lat      0\n",
       "lon      0\n",
       "alt      0\n",
       "tz       0\n",
       "dst      0\n",
       "tzone    3\n",
       "dtype: int64"
      ]
     },
     "execution_count": 3,
     "metadata": {},
     "output_type": "execute_result"
    }
   ],
   "source": [
    "airports.isnull().sum()"
   ]
  },
  {
   "cell_type": "markdown",
   "metadata": {},
   "source": [
    "### shows the rows that are missing values"
   ]
  },
  {
   "cell_type": "code",
   "execution_count": 4,
   "metadata": {},
   "outputs": [
    {
     "data": {
      "text/html": [
       "<div>\n",
       "<style scoped>\n",
       "    .dataframe tbody tr th:only-of-type {\n",
       "        vertical-align: middle;\n",
       "    }\n",
       "\n",
       "    .dataframe tbody tr th {\n",
       "        vertical-align: top;\n",
       "    }\n",
       "\n",
       "    .dataframe thead th {\n",
       "        text-align: right;\n",
       "    }\n",
       "</style>\n",
       "<table border=\"1\" class=\"dataframe\">\n",
       "  <thead>\n",
       "    <tr style=\"text-align: right;\">\n",
       "      <th></th>\n",
       "      <th>1</th>\n",
       "      <th>faa</th>\n",
       "      <th>name</th>\n",
       "      <th>lat</th>\n",
       "      <th>lon</th>\n",
       "      <th>alt</th>\n",
       "      <th>tz</th>\n",
       "      <th>dst</th>\n",
       "      <th>tzone</th>\n",
       "    </tr>\n",
       "  </thead>\n",
       "  <tbody>\n",
       "    <tr>\n",
       "      <th>417</th>\n",
       "      <td>419</td>\n",
       "      <td>EEN</td>\n",
       "      <td>Dillant Hopkins Airport</td>\n",
       "      <td>72.270833</td>\n",
       "      <td>42.898333</td>\n",
       "      <td>149</td>\n",
       "      <td>-5</td>\n",
       "      <td>A</td>\n",
       "      <td>NaN</td>\n",
       "    </tr>\n",
       "    <tr>\n",
       "      <th>815</th>\n",
       "      <td>817</td>\n",
       "      <td>LRO</td>\n",
       "      <td>Mount Pleasant Regional-Faison Field</td>\n",
       "      <td>32.538700</td>\n",
       "      <td>-79.469700</td>\n",
       "      <td>12</td>\n",
       "      <td>-5</td>\n",
       "      <td>A</td>\n",
       "      <td>NaN</td>\n",
       "    </tr>\n",
       "    <tr>\n",
       "      <th>1434</th>\n",
       "      <td>1436</td>\n",
       "      <td>YAK</td>\n",
       "      <td>Yakutat</td>\n",
       "      <td>59.301200</td>\n",
       "      <td>-139.393700</td>\n",
       "      <td>33</td>\n",
       "      <td>-9</td>\n",
       "      <td>A</td>\n",
       "      <td>NaN</td>\n",
       "    </tr>\n",
       "  </tbody>\n",
       "</table>\n",
       "</div>"
      ],
      "text/plain": [
       "         1  faa                                  name        lat         lon  \\\n",
       "417    419  EEN               Dillant Hopkins Airport  72.270833   42.898333   \n",
       "815    817  LRO  Mount Pleasant Regional-Faison Field  32.538700  -79.469700   \n",
       "1434  1436  YAK                               Yakutat  59.301200 -139.393700   \n",
       "\n",
       "      alt  tz dst tzone  \n",
       "417   149  -5   A   NaN  \n",
       "815    12  -5   A   NaN  \n",
       "1434   33  -9   A   NaN  "
      ]
     },
     "execution_count": 4,
     "metadata": {},
     "output_type": "execute_result"
    }
   ],
   "source": [
    "airports[airports.tzone.isnull()]"
   ]
  },
  {
   "cell_type": "markdown",
   "metadata": {},
   "source": [
    "## What is the northernmost airport in the United States?"
   ]
  },
  {
   "cell_type": "markdown",
   "metadata": {},
   "source": [
    "### Drop the rows that are missing data and shows the 5 northermost airport in the United States using latitude to find it."
   ]
  },
  {
   "cell_type": "code",
   "execution_count": 5,
   "metadata": {},
   "outputs": [
    {
     "data": {
      "text/html": [
       "<div>\n",
       "<style scoped>\n",
       "    .dataframe tbody tr th:only-of-type {\n",
       "        vertical-align: middle;\n",
       "    }\n",
       "\n",
       "    .dataframe tbody tr th {\n",
       "        vertical-align: top;\n",
       "    }\n",
       "\n",
       "    .dataframe thead th {\n",
       "        text-align: right;\n",
       "    }\n",
       "</style>\n",
       "<table border=\"1\" class=\"dataframe\">\n",
       "  <thead>\n",
       "    <tr style=\"text-align: right;\">\n",
       "      <th></th>\n",
       "      <th>1</th>\n",
       "      <th>faa</th>\n",
       "      <th>name</th>\n",
       "      <th>lat</th>\n",
       "      <th>lon</th>\n",
       "      <th>alt</th>\n",
       "      <th>tz</th>\n",
       "      <th>dst</th>\n",
       "      <th>tzone</th>\n",
       "    </tr>\n",
       "  </thead>\n",
       "  <tbody>\n",
       "    <tr>\n",
       "      <th>230</th>\n",
       "      <td>232</td>\n",
       "      <td>BRW</td>\n",
       "      <td>Wiley Post Will Rogers Mem</td>\n",
       "      <td>71.285446</td>\n",
       "      <td>-156.766003</td>\n",
       "      <td>44</td>\n",
       "      <td>-9</td>\n",
       "      <td>A</td>\n",
       "      <td>America/Anchorage</td>\n",
       "    </tr>\n",
       "    <tr>\n",
       "      <th>110</th>\n",
       "      <td>112</td>\n",
       "      <td>AIN</td>\n",
       "      <td>Wainwright Airport</td>\n",
       "      <td>70.638056</td>\n",
       "      <td>-159.994722</td>\n",
       "      <td>41</td>\n",
       "      <td>-9</td>\n",
       "      <td>A</td>\n",
       "      <td>America/Anchorage</td>\n",
       "    </tr>\n",
       "    <tr>\n",
       "      <th>708</th>\n",
       "      <td>710</td>\n",
       "      <td>K03</td>\n",
       "      <td>Wainwright As</td>\n",
       "      <td>70.613378</td>\n",
       "      <td>-159.860350</td>\n",
       "      <td>35</td>\n",
       "      <td>-9</td>\n",
       "      <td>A</td>\n",
       "      <td>America/Anchorage</td>\n",
       "    </tr>\n",
       "    <tr>\n",
       "      <th>152</th>\n",
       "      <td>154</td>\n",
       "      <td>ATK</td>\n",
       "      <td>Atqasuk Edward Burnell Sr Memorial Airport</td>\n",
       "      <td>70.467300</td>\n",
       "      <td>-157.436000</td>\n",
       "      <td>96</td>\n",
       "      <td>-9</td>\n",
       "      <td>A</td>\n",
       "      <td>America/Anchorage</td>\n",
       "    </tr>\n",
       "    <tr>\n",
       "      <th>1363</th>\n",
       "      <td>1365</td>\n",
       "      <td>UUK</td>\n",
       "      <td>Ugnu-Kuparuk Airport</td>\n",
       "      <td>70.330833</td>\n",
       "      <td>-149.597500</td>\n",
       "      <td>67</td>\n",
       "      <td>-9</td>\n",
       "      <td>A</td>\n",
       "      <td>America/Anchorage</td>\n",
       "    </tr>\n",
       "  </tbody>\n",
       "</table>\n",
       "</div>"
      ],
      "text/plain": [
       "         1  faa                                        name        lat  \\\n",
       "230    232  BRW                  Wiley Post Will Rogers Mem  71.285446   \n",
       "110    112  AIN                          Wainwright Airport  70.638056   \n",
       "708    710  K03                               Wainwright As  70.613378   \n",
       "152    154  ATK  Atqasuk Edward Burnell Sr Memorial Airport  70.467300   \n",
       "1363  1365  UUK                        Ugnu-Kuparuk Airport  70.330833   \n",
       "\n",
       "             lon  alt  tz dst              tzone  \n",
       "230  -156.766003   44  -9   A  America/Anchorage  \n",
       "110  -159.994722   41  -9   A  America/Anchorage  \n",
       "708  -159.860350   35  -9   A  America/Anchorage  \n",
       "152  -157.436000   96  -9   A  America/Anchorage  \n",
       "1363 -149.597500   67  -9   A  America/Anchorage  "
      ]
     },
     "execution_count": 5,
     "metadata": {},
     "output_type": "execute_result"
    }
   ],
   "source": [
    "airports.dropna(how ='any').sort_values(by ='lat', ascending = False).head(5)"
   ]
  },
  {
   "cell_type": "markdown",
   "metadata": {},
   "source": [
    "### Shows the northernmost airport in the united States"
   ]
  },
  {
   "cell_type": "code",
   "execution_count": 6,
   "metadata": {},
   "outputs": [
    {
     "data": {
      "text/html": [
       "<div>\n",
       "<style scoped>\n",
       "    .dataframe tbody tr th:only-of-type {\n",
       "        vertical-align: middle;\n",
       "    }\n",
       "\n",
       "    .dataframe tbody tr th {\n",
       "        vertical-align: top;\n",
       "    }\n",
       "\n",
       "    .dataframe thead th {\n",
       "        text-align: right;\n",
       "    }\n",
       "</style>\n",
       "<table border=\"1\" class=\"dataframe\">\n",
       "  <thead>\n",
       "    <tr style=\"text-align: right;\">\n",
       "      <th></th>\n",
       "      <th>1</th>\n",
       "      <th>faa</th>\n",
       "      <th>name</th>\n",
       "      <th>lat</th>\n",
       "      <th>lon</th>\n",
       "      <th>alt</th>\n",
       "      <th>tz</th>\n",
       "      <th>dst</th>\n",
       "      <th>tzone</th>\n",
       "    </tr>\n",
       "  </thead>\n",
       "  <tbody>\n",
       "    <tr>\n",
       "      <th>230</th>\n",
       "      <td>232</td>\n",
       "      <td>BRW</td>\n",
       "      <td>Wiley Post Will Rogers Mem</td>\n",
       "      <td>71.285446</td>\n",
       "      <td>-156.766003</td>\n",
       "      <td>44</td>\n",
       "      <td>-9</td>\n",
       "      <td>A</td>\n",
       "      <td>America/Anchorage</td>\n",
       "    </tr>\n",
       "  </tbody>\n",
       "</table>\n",
       "</div>"
      ],
      "text/plain": [
       "       1  faa                        name        lat         lon  alt  tz dst  \\\n",
       "230  232  BRW  Wiley Post Will Rogers Mem  71.285446 -156.766003   44  -9   A   \n",
       "\n",
       "                 tzone  \n",
       "230  America/Anchorage  "
      ]
     },
     "execution_count": 6,
     "metadata": {},
     "output_type": "execute_result"
    }
   ],
   "source": [
    "airports.dropna(how ='any').sort_values(by ='lat', ascending = False).head(1)"
   ]
  },
  {
   "cell_type": "markdown",
   "metadata": {},
   "source": [
    "## The northernmost airport in the United States is Wiley Post Will Rogers Memorial"
   ]
  },
  {
   "attachments": {
    "northernmost.JPG": {
     "image/jpeg": "[encoded data removed]"
    }
   },
   "cell_type": "markdown",
   "metadata": {},
   "source": [
    "![northernmost.JPG](attachment:northernmost.JPG)\n",
    "\n",
    "#### Source: Google Maps"
   ]
  },
  {
   "cell_type": "markdown",
   "metadata": {},
   "source": [
    "## What is the easternmost airport in the United States? "
   ]
  },
  {
   "cell_type": "markdown",
   "metadata": {},
   "source": [
    "### Shows the five easternmost airport in the United States using longitude to find it "
   ]
  },
  {
   "cell_type": "code",
   "execution_count": 7,
   "metadata": {},
   "outputs": [
    {
     "data": {
      "text/html": [
       "<div>\n",
       "<style scoped>\n",
       "    .dataframe tbody tr th:only-of-type {\n",
       "        vertical-align: middle;\n",
       "    }\n",
       "\n",
       "    .dataframe tbody tr th {\n",
       "        vertical-align: top;\n",
       "    }\n",
       "\n",
       "    .dataframe thead th {\n",
       "        text-align: right;\n",
       "    }\n",
       "</style>\n",
       "<table border=\"1\" class=\"dataframe\">\n",
       "  <thead>\n",
       "    <tr style=\"text-align: right;\">\n",
       "      <th></th>\n",
       "      <th>1</th>\n",
       "      <th>faa</th>\n",
       "      <th>name</th>\n",
       "      <th>lat</th>\n",
       "      <th>lon</th>\n",
       "      <th>alt</th>\n",
       "      <th>tz</th>\n",
       "      <th>dst</th>\n",
       "      <th>tzone</th>\n",
       "    </tr>\n",
       "  </thead>\n",
       "  <tbody>\n",
       "    <tr>\n",
       "      <th>444</th>\n",
       "      <td>446</td>\n",
       "      <td>EPM</td>\n",
       "      <td>Eastport Municipal Airport</td>\n",
       "      <td>44.910111</td>\n",
       "      <td>-67.012694</td>\n",
       "      <td>45</td>\n",
       "      <td>-5</td>\n",
       "      <td>A</td>\n",
       "      <td>America/New_York</td>\n",
       "    </tr>\n",
       "    <tr>\n",
       "      <th>624</th>\n",
       "      <td>626</td>\n",
       "      <td>HUL</td>\n",
       "      <td>Houlton Intl</td>\n",
       "      <td>46.123083</td>\n",
       "      <td>-67.792056</td>\n",
       "      <td>489</td>\n",
       "      <td>-5</td>\n",
       "      <td>A</td>\n",
       "      <td>America/New_York</td>\n",
       "    </tr>\n",
       "    <tr>\n",
       "      <th>259</th>\n",
       "      <td>261</td>\n",
       "      <td>CAR</td>\n",
       "      <td>Caribou Muni</td>\n",
       "      <td>46.871500</td>\n",
       "      <td>-68.017917</td>\n",
       "      <td>626</td>\n",
       "      <td>-5</td>\n",
       "      <td>A</td>\n",
       "      <td>America/New_York</td>\n",
       "    </tr>\n",
       "    <tr>\n",
       "      <th>1101</th>\n",
       "      <td>1103</td>\n",
       "      <td>PQI</td>\n",
       "      <td>Northern Maine Rgnl At Presque Isle</td>\n",
       "      <td>46.688958</td>\n",
       "      <td>-68.044797</td>\n",
       "      <td>534</td>\n",
       "      <td>-5</td>\n",
       "      <td>A</td>\n",
       "      <td>America/New_York</td>\n",
       "    </tr>\n",
       "    <tr>\n",
       "      <th>1398</th>\n",
       "      <td>1400</td>\n",
       "      <td>WFK</td>\n",
       "      <td>Northern Aroostook Regional Airport</td>\n",
       "      <td>47.285556</td>\n",
       "      <td>-68.312778</td>\n",
       "      <td>988</td>\n",
       "      <td>-5</td>\n",
       "      <td>A</td>\n",
       "      <td>America/New_York</td>\n",
       "    </tr>\n",
       "  </tbody>\n",
       "</table>\n",
       "</div>"
      ],
      "text/plain": [
       "         1  faa                                 name        lat        lon  \\\n",
       "444    446  EPM           Eastport Municipal Airport  44.910111 -67.012694   \n",
       "624    626  HUL                         Houlton Intl  46.123083 -67.792056   \n",
       "259    261  CAR                         Caribou Muni  46.871500 -68.017917   \n",
       "1101  1103  PQI  Northern Maine Rgnl At Presque Isle  46.688958 -68.044797   \n",
       "1398  1400  WFK  Northern Aroostook Regional Airport  47.285556 -68.312778   \n",
       "\n",
       "      alt  tz dst             tzone  \n",
       "444    45  -5   A  America/New_York  \n",
       "624   489  -5   A  America/New_York  \n",
       "259   626  -5   A  America/New_York  \n",
       "1101  534  -5   A  America/New_York  \n",
       "1398  988  -5   A  America/New_York  "
      ]
     },
     "execution_count": 7,
     "metadata": {},
     "output_type": "execute_result"
    }
   ],
   "source": [
    "airports[airports.lon <= 0].sort_values(by= 'lon', ascending = False).head(5)"
   ]
  },
  {
   "cell_type": "markdown",
   "metadata": {},
   "source": [
    "### Shows the easternmost airport in the United States"
   ]
  },
  {
   "cell_type": "code",
   "execution_count": 8,
   "metadata": {},
   "outputs": [
    {
     "data": {
      "text/html": [
       "<div>\n",
       "<style scoped>\n",
       "    .dataframe tbody tr th:only-of-type {\n",
       "        vertical-align: middle;\n",
       "    }\n",
       "\n",
       "    .dataframe tbody tr th {\n",
       "        vertical-align: top;\n",
       "    }\n",
       "\n",
       "    .dataframe thead th {\n",
       "        text-align: right;\n",
       "    }\n",
       "</style>\n",
       "<table border=\"1\" class=\"dataframe\">\n",
       "  <thead>\n",
       "    <tr style=\"text-align: right;\">\n",
       "      <th></th>\n",
       "      <th>1</th>\n",
       "      <th>faa</th>\n",
       "      <th>name</th>\n",
       "      <th>lat</th>\n",
       "      <th>lon</th>\n",
       "      <th>alt</th>\n",
       "      <th>tz</th>\n",
       "      <th>dst</th>\n",
       "      <th>tzone</th>\n",
       "    </tr>\n",
       "  </thead>\n",
       "  <tbody>\n",
       "    <tr>\n",
       "      <th>444</th>\n",
       "      <td>446</td>\n",
       "      <td>EPM</td>\n",
       "      <td>Eastport Municipal Airport</td>\n",
       "      <td>44.910111</td>\n",
       "      <td>-67.012694</td>\n",
       "      <td>45</td>\n",
       "      <td>-5</td>\n",
       "      <td>A</td>\n",
       "      <td>America/New_York</td>\n",
       "    </tr>\n",
       "  </tbody>\n",
       "</table>\n",
       "</div>"
      ],
      "text/plain": [
       "       1  faa                        name        lat        lon  alt  tz dst  \\\n",
       "444  446  EPM  Eastport Municipal Airport  44.910111 -67.012694   45  -5   A   \n",
       "\n",
       "                tzone  \n",
       "444  America/New_York  "
      ]
     },
     "execution_count": 8,
     "metadata": {},
     "output_type": "execute_result"
    }
   ],
   "source": [
    "airports[airports.lon <= 0].sort_values(by= 'lon', ascending = False).head(1)"
   ]
  },
  {
   "cell_type": "markdown",
   "metadata": {},
   "source": [
    "## The easternmost airport in the United States is Eastport Municipal Airport"
   ]
  },
  {
   "attachments": {
    "easternmost.JPG": {
     "image/jpeg": "[encoded data removed]"
    }
   },
   "cell_type": "markdown",
   "metadata": {},
   "source": [
    "![easternmost.JPG](attachment:easternmost.JPG)\n",
    "#### Source: Google Maps"
   ]
  },
  {
   "cell_type": "markdown",
   "metadata": {},
   "source": [
    "## On Febraury 12th 2013, which NY area airport had the windiest weather?"
   ]
  },
  {
   "cell_type": "markdown",
   "metadata": {},
   "source": [
    "### Read the file with information about weather (weather.csv)"
   ]
  },
  {
   "cell_type": "code",
   "execution_count": 9,
   "metadata": {},
   "outputs": [],
   "source": [
    "# Read weather.csv \n",
    "weather = pd.read_csv('/Users/vguan/Documents/SPS/IS362/Week 5/weather.csv')"
   ]
  },
  {
   "cell_type": "markdown",
   "metadata": {},
   "source": [
    "### Shows the missing values on weathe.csv"
   ]
  },
  {
   "cell_type": "code",
   "execution_count": 10,
   "metadata": {},
   "outputs": [
    {
     "data": {
      "text/plain": [
       "origin            0\n",
       "year              0\n",
       "month             0\n",
       "day               0\n",
       "hour              0\n",
       "temp              1\n",
       "dewp              1\n",
       "humid             1\n",
       "wind_dir        460\n",
       "wind_speed        4\n",
       "wind_gust     20778\n",
       "precip            0\n",
       "pressure       2729\n",
       "visib             0\n",
       "time_hour         0\n",
       "dtype: int64"
      ]
     },
     "execution_count": 10,
     "metadata": {},
     "output_type": "execute_result"
    }
   ],
   "source": [
    "weather.isnull().sum()"
   ]
  },
  {
   "cell_type": "markdown",
   "metadata": {},
   "source": [
    "### shows the rows that are missing the wind_speed values"
   ]
  },
  {
   "cell_type": "code",
   "execution_count": 11,
   "metadata": {},
   "outputs": [
    {
     "data": {
      "text/html": [
       "<div>\n",
       "<style scoped>\n",
       "    .dataframe tbody tr th:only-of-type {\n",
       "        vertical-align: middle;\n",
       "    }\n",
       "\n",
       "    .dataframe tbody tr th {\n",
       "        vertical-align: top;\n",
       "    }\n",
       "\n",
       "    .dataframe thead th {\n",
       "        text-align: right;\n",
       "    }\n",
       "</style>\n",
       "<table border=\"1\" class=\"dataframe\">\n",
       "  <thead>\n",
       "    <tr style=\"text-align: right;\">\n",
       "      <th></th>\n",
       "      <th>origin</th>\n",
       "      <th>year</th>\n",
       "      <th>month</th>\n",
       "      <th>day</th>\n",
       "      <th>hour</th>\n",
       "      <th>temp</th>\n",
       "      <th>dewp</th>\n",
       "      <th>humid</th>\n",
       "      <th>wind_dir</th>\n",
       "      <th>wind_speed</th>\n",
       "      <th>wind_gust</th>\n",
       "      <th>precip</th>\n",
       "      <th>pressure</th>\n",
       "      <th>visib</th>\n",
       "      <th>time_hour</th>\n",
       "    </tr>\n",
       "  </thead>\n",
       "  <tbody>\n",
       "    <tr>\n",
       "      <th>2051</th>\n",
       "      <td>EWR</td>\n",
       "      <td>2013</td>\n",
       "      <td>3</td>\n",
       "      <td>27</td>\n",
       "      <td>17</td>\n",
       "      <td>51.98</td>\n",
       "      <td>19.04</td>\n",
       "      <td>27.02</td>\n",
       "      <td>NaN</td>\n",
       "      <td>NaN</td>\n",
       "      <td>NaN</td>\n",
       "      <td>0.0</td>\n",
       "      <td>1012.1</td>\n",
       "      <td>10.0</td>\n",
       "      <td>2013-03-27T21:00:00Z</td>\n",
       "    </tr>\n",
       "    <tr>\n",
       "      <th>12091</th>\n",
       "      <td>JFK</td>\n",
       "      <td>2013</td>\n",
       "      <td>5</td>\n",
       "      <td>22</td>\n",
       "      <td>10</td>\n",
       "      <td>62.06</td>\n",
       "      <td>59.00</td>\n",
       "      <td>93.79</td>\n",
       "      <td>NaN</td>\n",
       "      <td>NaN</td>\n",
       "      <td>NaN</td>\n",
       "      <td>0.0</td>\n",
       "      <td>NaN</td>\n",
       "      <td>2.5</td>\n",
       "      <td>2013-05-22T14:00:00Z</td>\n",
       "    </tr>\n",
       "    <tr>\n",
       "      <th>13119</th>\n",
       "      <td>JFK</td>\n",
       "      <td>2013</td>\n",
       "      <td>7</td>\n",
       "      <td>4</td>\n",
       "      <td>6</td>\n",
       "      <td>73.04</td>\n",
       "      <td>71.06</td>\n",
       "      <td>93.52</td>\n",
       "      <td>NaN</td>\n",
       "      <td>NaN</td>\n",
       "      <td>NaN</td>\n",
       "      <td>0.0</td>\n",
       "      <td>1024.4</td>\n",
       "      <td>6.0</td>\n",
       "      <td>2013-07-04T10:00:00Z</td>\n",
       "    </tr>\n",
       "    <tr>\n",
       "      <th>13503</th>\n",
       "      <td>JFK</td>\n",
       "      <td>2013</td>\n",
       "      <td>7</td>\n",
       "      <td>20</td>\n",
       "      <td>6</td>\n",
       "      <td>80.96</td>\n",
       "      <td>71.06</td>\n",
       "      <td>71.92</td>\n",
       "      <td>NaN</td>\n",
       "      <td>NaN</td>\n",
       "      <td>NaN</td>\n",
       "      <td>0.0</td>\n",
       "      <td>1009.6</td>\n",
       "      <td>10.0</td>\n",
       "      <td>2013-07-20T10:00:00Z</td>\n",
       "    </tr>\n",
       "  </tbody>\n",
       "</table>\n",
       "</div>"
      ],
      "text/plain": [
       "      origin  year  month  day  hour   temp   dewp  humid  wind_dir  \\\n",
       "2051     EWR  2013      3   27    17  51.98  19.04  27.02       NaN   \n",
       "12091    JFK  2013      5   22    10  62.06  59.00  93.79       NaN   \n",
       "13119    JFK  2013      7    4     6  73.04  71.06  93.52       NaN   \n",
       "13503    JFK  2013      7   20     6  80.96  71.06  71.92       NaN   \n",
       "\n",
       "       wind_speed  wind_gust  precip  pressure  visib             time_hour  \n",
       "2051          NaN        NaN     0.0    1012.1   10.0  2013-03-27T21:00:00Z  \n",
       "12091         NaN        NaN     0.0       NaN    2.5  2013-05-22T14:00:00Z  \n",
       "13119         NaN        NaN     0.0    1024.4    6.0  2013-07-04T10:00:00Z  \n",
       "13503         NaN        NaN     0.0    1009.6   10.0  2013-07-20T10:00:00Z  "
      ]
     },
     "execution_count": 11,
     "metadata": {},
     "output_type": "execute_result"
    }
   ],
   "source": [
    "weather[weather.wind_speed.isnull()]"
   ]
  },
  {
   "cell_type": "markdown",
   "metadata": {},
   "source": [
    "### Drop the rows that are missing values and shows windiest airports in NY on Febraury 12th 2013."
   ]
  },
  {
   "cell_type": "code",
   "execution_count": 12,
   "metadata": {},
   "outputs": [
    {
     "data": {
      "text/html": [
       "<div>\n",
       "<style scoped>\n",
       "    .dataframe tbody tr th:only-of-type {\n",
       "        vertical-align: middle;\n",
       "    }\n",
       "\n",
       "    .dataframe tbody tr th {\n",
       "        vertical-align: top;\n",
       "    }\n",
       "\n",
       "    .dataframe thead th {\n",
       "        text-align: right;\n",
       "    }\n",
       "</style>\n",
       "<table border=\"1\" class=\"dataframe\">\n",
       "  <thead>\n",
       "    <tr style=\"text-align: right;\">\n",
       "      <th></th>\n",
       "      <th>origin</th>\n",
       "      <th>year</th>\n",
       "      <th>month</th>\n",
       "      <th>day</th>\n",
       "      <th>hour</th>\n",
       "      <th>temp</th>\n",
       "      <th>dewp</th>\n",
       "      <th>humid</th>\n",
       "      <th>wind_dir</th>\n",
       "      <th>wind_speed</th>\n",
       "      <th>wind_gust</th>\n",
       "      <th>precip</th>\n",
       "      <th>pressure</th>\n",
       "      <th>visib</th>\n",
       "      <th>time_hour</th>\n",
       "    </tr>\n",
       "  </thead>\n",
       "  <tbody>\n",
       "    <tr>\n",
       "      <th>18417</th>\n",
       "      <td>LGA</td>\n",
       "      <td>2013</td>\n",
       "      <td>2</td>\n",
       "      <td>12</td>\n",
       "      <td>2</td>\n",
       "      <td>42.98</td>\n",
       "      <td>26.06</td>\n",
       "      <td>50.94</td>\n",
       "      <td>290.0</td>\n",
       "      <td>23.01560</td>\n",
       "      <td>31.07106</td>\n",
       "      <td>0.0</td>\n",
       "      <td>1007.1</td>\n",
       "      <td>10.0</td>\n",
       "      <td>2013-02-12T07:00:00Z</td>\n",
       "    </tr>\n",
       "    <tr>\n",
       "      <th>1018</th>\n",
       "      <td>EWR</td>\n",
       "      <td>2013</td>\n",
       "      <td>2</td>\n",
       "      <td>12</td>\n",
       "      <td>12</td>\n",
       "      <td>44.06</td>\n",
       "      <td>26.06</td>\n",
       "      <td>48.87</td>\n",
       "      <td>270.0</td>\n",
       "      <td>21.86482</td>\n",
       "      <td>31.07106</td>\n",
       "      <td>0.0</td>\n",
       "      <td>1012.5</td>\n",
       "      <td>10.0</td>\n",
       "      <td>2013-02-12T17:00:00Z</td>\n",
       "    </tr>\n",
       "    <tr>\n",
       "      <th>18428</th>\n",
       "      <td>LGA</td>\n",
       "      <td>2013</td>\n",
       "      <td>2</td>\n",
       "      <td>12</td>\n",
       "      <td>13</td>\n",
       "      <td>44.06</td>\n",
       "      <td>23.00</td>\n",
       "      <td>43.02</td>\n",
       "      <td>300.0</td>\n",
       "      <td>21.86482</td>\n",
       "      <td>25.31716</td>\n",
       "      <td>0.0</td>\n",
       "      <td>1011.7</td>\n",
       "      <td>10.0</td>\n",
       "      <td>2013-02-12T18:00:00Z</td>\n",
       "    </tr>\n",
       "    <tr>\n",
       "      <th>18429</th>\n",
       "      <td>LGA</td>\n",
       "      <td>2013</td>\n",
       "      <td>2</td>\n",
       "      <td>12</td>\n",
       "      <td>14</td>\n",
       "      <td>44.06</td>\n",
       "      <td>23.00</td>\n",
       "      <td>43.02</td>\n",
       "      <td>300.0</td>\n",
       "      <td>20.71404</td>\n",
       "      <td>25.31716</td>\n",
       "      <td>0.0</td>\n",
       "      <td>1011.5</td>\n",
       "      <td>10.0</td>\n",
       "      <td>2013-02-12T19:00:00Z</td>\n",
       "    </tr>\n",
       "    <tr>\n",
       "      <th>1008</th>\n",
       "      <td>EWR</td>\n",
       "      <td>2013</td>\n",
       "      <td>2</td>\n",
       "      <td>12</td>\n",
       "      <td>2</td>\n",
       "      <td>39.92</td>\n",
       "      <td>28.04</td>\n",
       "      <td>62.21</td>\n",
       "      <td>270.0</td>\n",
       "      <td>20.71404</td>\n",
       "      <td>25.31716</td>\n",
       "      <td>0.0</td>\n",
       "      <td>1007.8</td>\n",
       "      <td>10.0</td>\n",
       "      <td>2013-02-12T07:00:00Z</td>\n",
       "    </tr>\n",
       "  </tbody>\n",
       "</table>\n",
       "</div>"
      ],
      "text/plain": [
       "      origin  year  month  day  hour   temp   dewp  humid  wind_dir  \\\n",
       "18417    LGA  2013      2   12     2  42.98  26.06  50.94     290.0   \n",
       "1018     EWR  2013      2   12    12  44.06  26.06  48.87     270.0   \n",
       "18428    LGA  2013      2   12    13  44.06  23.00  43.02     300.0   \n",
       "18429    LGA  2013      2   12    14  44.06  23.00  43.02     300.0   \n",
       "1008     EWR  2013      2   12     2  39.92  28.04  62.21     270.0   \n",
       "\n",
       "       wind_speed  wind_gust  precip  pressure  visib             time_hour  \n",
       "18417    23.01560   31.07106     0.0    1007.1   10.0  2013-02-12T07:00:00Z  \n",
       "1018     21.86482   31.07106     0.0    1012.5   10.0  2013-02-12T17:00:00Z  \n",
       "18428    21.86482   25.31716     0.0    1011.7   10.0  2013-02-12T18:00:00Z  \n",
       "18429    20.71404   25.31716     0.0    1011.5   10.0  2013-02-12T19:00:00Z  \n",
       "1008     20.71404   25.31716     0.0    1007.8   10.0  2013-02-12T07:00:00Z  "
      ]
     },
     "execution_count": 12,
     "metadata": {},
     "output_type": "execute_result"
    }
   ],
   "source": [
    "weather[(weather.year == 2013)&(weather.month == 2)&(weather.day == 12)].sort_values(by ='wind_speed', ascending = False).dropna( how = 'any').head(5)"
   ]
  },
  {
   "cell_type": "markdown",
   "metadata": {},
   "source": [
    "### Shows the windiest airport in NY on Feb 12th 2013"
   ]
  },
  {
   "cell_type": "code",
   "execution_count": 14,
   "metadata": {},
   "outputs": [
    {
     "data": {
      "text/html": [
       "<div>\n",
       "<style scoped>\n",
       "    .dataframe tbody tr th:only-of-type {\n",
       "        vertical-align: middle;\n",
       "    }\n",
       "\n",
       "    .dataframe tbody tr th {\n",
       "        vertical-align: top;\n",
       "    }\n",
       "\n",
       "    .dataframe thead th {\n",
       "        text-align: right;\n",
       "    }\n",
       "</style>\n",
       "<table border=\"1\" class=\"dataframe\">\n",
       "  <thead>\n",
       "    <tr style=\"text-align: right;\">\n",
       "      <th></th>\n",
       "      <th>origin</th>\n",
       "      <th>year</th>\n",
       "      <th>month</th>\n",
       "      <th>day</th>\n",
       "      <th>hour</th>\n",
       "      <th>temp</th>\n",
       "      <th>dewp</th>\n",
       "      <th>humid</th>\n",
       "      <th>wind_dir</th>\n",
       "      <th>wind_speed</th>\n",
       "      <th>wind_gust</th>\n",
       "      <th>precip</th>\n",
       "      <th>pressure</th>\n",
       "      <th>visib</th>\n",
       "      <th>time_hour</th>\n",
       "    </tr>\n",
       "  </thead>\n",
       "  <tbody>\n",
       "    <tr>\n",
       "      <th>18417</th>\n",
       "      <td>LGA</td>\n",
       "      <td>2013</td>\n",
       "      <td>2</td>\n",
       "      <td>12</td>\n",
       "      <td>2</td>\n",
       "      <td>42.98</td>\n",
       "      <td>26.06</td>\n",
       "      <td>50.94</td>\n",
       "      <td>290.0</td>\n",
       "      <td>23.0156</td>\n",
       "      <td>31.07106</td>\n",
       "      <td>0.0</td>\n",
       "      <td>1007.1</td>\n",
       "      <td>10.0</td>\n",
       "      <td>2013-02-12T07:00:00Z</td>\n",
       "    </tr>\n",
       "  </tbody>\n",
       "</table>\n",
       "</div>"
      ],
      "text/plain": [
       "      origin  year  month  day  hour   temp   dewp  humid  wind_dir  \\\n",
       "18417    LGA  2013      2   12     2  42.98  26.06  50.94     290.0   \n",
       "\n",
       "       wind_speed  wind_gust  precip  pressure  visib             time_hour  \n",
       "18417     23.0156   31.07106     0.0    1007.1   10.0  2013-02-12T07:00:00Z  "
      ]
     },
     "execution_count": 14,
     "metadata": {},
     "output_type": "execute_result"
    }
   ],
   "source": [
    "weather[(weather.year == 2013)&(weather.month == 2)&(weather.day == 12)].sort_values(by ='wind_speed', ascending = False).dropna( how = 'any').head(1)"
   ]
  },
  {
   "cell_type": "markdown",
   "metadata": {},
   "source": [
    "## The windiest airport in NY on Feb 12th 2013 was La Guardia Airport"
   ]
  },
  {
   "cell_type": "code",
   "execution_count": null,
   "metadata": {},
   "outputs": [],
   "source": []
  }
 ],
 "metadata": {
  "kernelspec": {
   "display_name": "Python 3",
   "language": "python",
   "name": "python3"
  },
  "language_info": {
   "codemirror_mode": {
    "name": "ipython",
    "version": 3
   },
   "file_extension": ".py",
   "mimetype": "text/x-python",
   "name": "python",
   "nbconvert_exporter": "python",
   "pygments_lexer": "ipython3",
   "version": "3.8.5"
  }
 },
 "nbformat": 4,
 "nbformat_minor": 4
}
