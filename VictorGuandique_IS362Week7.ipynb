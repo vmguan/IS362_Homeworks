{
 "cells": [
  {
   "cell_type": "markdown",
   "metadata": {},
   "source": [
    "# Assignment Week 7 Normalization and Standardization "
   ]
  },
  {
   "cell_type": "code",
   "execution_count": 2,
   "metadata": {},
   "outputs": [],
   "source": [
    "# Import pandas and numpy\n",
    "import pandas as pd\n",
    "import numpy as np"
   ]
  },
  {
   "cell_type": "markdown",
   "metadata": {},
   "source": [
    "## Read the file with the data (movies.csv)"
   ]
  },
  {
   "cell_type": "code",
   "execution_count": 3,
   "metadata": {},
   "outputs": [
    {
     "data": {
      "text/html": [
       "<div>\n",
       "<style scoped>\n",
       "    .dataframe tbody tr th:only-of-type {\n",
       "        vertical-align: middle;\n",
       "    }\n",
       "\n",
       "    .dataframe tbody tr th {\n",
       "        vertical-align: top;\n",
       "    }\n",
       "\n",
       "    .dataframe thead th {\n",
       "        text-align: right;\n",
       "    }\n",
       "</style>\n",
       "<table border=\"1\" class=\"dataframe\">\n",
       "  <thead>\n",
       "    <tr style=\"text-align: right;\">\n",
       "      <th></th>\n",
       "      <th>The Matrix</th>\n",
       "      <th>Mortal Kombat</th>\n",
       "      <th>Independence Day</th>\n",
       "      <th>Titanic</th>\n",
       "      <th>Silence of the Lambs</th>\n",
       "      <th>Ghost</th>\n",
       "    </tr>\n",
       "  </thead>\n",
       "  <tbody>\n",
       "    <tr>\n",
       "      <th>Maria</th>\n",
       "      <td>1.0</td>\n",
       "      <td>NaN</td>\n",
       "      <td>NaN</td>\n",
       "      <td>5.0</td>\n",
       "      <td>3.0</td>\n",
       "      <td>5.0</td>\n",
       "    </tr>\n",
       "    <tr>\n",
       "      <th>Michael</th>\n",
       "      <td>5.0</td>\n",
       "      <td>4.0</td>\n",
       "      <td>5.0</td>\n",
       "      <td>NaN</td>\n",
       "      <td>4.0</td>\n",
       "      <td>NaN</td>\n",
       "    </tr>\n",
       "    <tr>\n",
       "      <th>Martha</th>\n",
       "      <td>NaN</td>\n",
       "      <td>NaN</td>\n",
       "      <td>NaN</td>\n",
       "      <td>4.0</td>\n",
       "      <td>4.0</td>\n",
       "      <td>5.0</td>\n",
       "    </tr>\n",
       "    <tr>\n",
       "      <th>Roberto</th>\n",
       "      <td>4.0</td>\n",
       "      <td>3.0</td>\n",
       "      <td>4.0</td>\n",
       "      <td>3.0</td>\n",
       "      <td>NaN</td>\n",
       "      <td>NaN</td>\n",
       "    </tr>\n",
       "    <tr>\n",
       "      <th>Luis</th>\n",
       "      <td>5.0</td>\n",
       "      <td>2.0</td>\n",
       "      <td>5.0</td>\n",
       "      <td>NaN</td>\n",
       "      <td>3.0</td>\n",
       "      <td>1.0</td>\n",
       "    </tr>\n",
       "  </tbody>\n",
       "</table>\n",
       "</div>"
      ],
      "text/plain": [
       "         The Matrix  Mortal Kombat  Independence Day  Titanic  \\\n",
       "Maria           1.0            NaN               NaN      5.0   \n",
       "Michael         5.0            4.0               5.0      NaN   \n",
       "Martha          NaN            NaN               NaN      4.0   \n",
       "Roberto         4.0            3.0               4.0      3.0   \n",
       "Luis            5.0            2.0               5.0      NaN   \n",
       "\n",
       "         Silence of the Lambs  Ghost  \n",
       "Maria                     3.0    5.0  \n",
       "Michael                   4.0    NaN  \n",
       "Martha                    4.0    5.0  \n",
       "Roberto                   NaN    NaN  \n",
       "Luis                      3.0    1.0  "
      ]
     },
     "execution_count": 3,
     "metadata": {},
     "output_type": "execute_result"
    }
   ],
   "source": [
    "ratings = pd.read_csv('/Users/vguan/Documents/SPS/IS362/Week 7/movies.csv', index_col = 0)\n",
    "ratings.head()"
   ]
  },
  {
   "cell_type": "markdown",
   "metadata": {},
   "source": [
    "## Calculate the average rating for each viewer. Pandas will skip the values (NaN)"
   ]
  },
  {
   "cell_type": "code",
   "execution_count": 4,
   "metadata": {},
   "outputs": [
    {
     "data": {
      "text/html": [
       "<div>\n",
       "<style scoped>\n",
       "    .dataframe tbody tr th:only-of-type {\n",
       "        vertical-align: middle;\n",
       "    }\n",
       "\n",
       "    .dataframe tbody tr th {\n",
       "        vertical-align: top;\n",
       "    }\n",
       "\n",
       "    .dataframe thead th {\n",
       "        text-align: right;\n",
       "    }\n",
       "</style>\n",
       "<table border=\"1\" class=\"dataframe\">\n",
       "  <thead>\n",
       "    <tr style=\"text-align: right;\">\n",
       "      <th></th>\n",
       "      <th>The Matrix</th>\n",
       "      <th>Mortal Kombat</th>\n",
       "      <th>Independence Day</th>\n",
       "      <th>Titanic</th>\n",
       "      <th>Silence of the Lambs</th>\n",
       "      <th>Ghost</th>\n",
       "      <th>Average</th>\n",
       "    </tr>\n",
       "  </thead>\n",
       "  <tbody>\n",
       "    <tr>\n",
       "      <th>Maria</th>\n",
       "      <td>1.0</td>\n",
       "      <td>NaN</td>\n",
       "      <td>NaN</td>\n",
       "      <td>5.0</td>\n",
       "      <td>3.0</td>\n",
       "      <td>5.0</td>\n",
       "      <td>3.5</td>\n",
       "    </tr>\n",
       "    <tr>\n",
       "      <th>Michael</th>\n",
       "      <td>5.0</td>\n",
       "      <td>4.0</td>\n",
       "      <td>5.0</td>\n",
       "      <td>NaN</td>\n",
       "      <td>4.0</td>\n",
       "      <td>NaN</td>\n",
       "      <td>4.5</td>\n",
       "    </tr>\n",
       "    <tr>\n",
       "      <th>Martha</th>\n",
       "      <td>NaN</td>\n",
       "      <td>NaN</td>\n",
       "      <td>NaN</td>\n",
       "      <td>4.0</td>\n",
       "      <td>4.0</td>\n",
       "      <td>5.0</td>\n",
       "      <td>4.3</td>\n",
       "    </tr>\n",
       "    <tr>\n",
       "      <th>Roberto</th>\n",
       "      <td>4.0</td>\n",
       "      <td>3.0</td>\n",
       "      <td>4.0</td>\n",
       "      <td>3.0</td>\n",
       "      <td>NaN</td>\n",
       "      <td>NaN</td>\n",
       "      <td>3.5</td>\n",
       "    </tr>\n",
       "    <tr>\n",
       "      <th>Luis</th>\n",
       "      <td>5.0</td>\n",
       "      <td>2.0</td>\n",
       "      <td>5.0</td>\n",
       "      <td>NaN</td>\n",
       "      <td>3.0</td>\n",
       "      <td>1.0</td>\n",
       "      <td>3.2</td>\n",
       "    </tr>\n",
       "  </tbody>\n",
       "</table>\n",
       "</div>"
      ],
      "text/plain": [
       "         The Matrix  Mortal Kombat  Independence Day  Titanic  \\\n",
       "Maria           1.0            NaN               NaN      5.0   \n",
       "Michael         5.0            4.0               5.0      NaN   \n",
       "Martha          NaN            NaN               NaN      4.0   \n",
       "Roberto         4.0            3.0               4.0      3.0   \n",
       "Luis            5.0            2.0               5.0      NaN   \n",
       "\n",
       "         Silence of the Lambs  Ghost  Average  \n",
       "Maria                     3.0    5.0      3.5  \n",
       "Michael                   4.0    NaN      4.5  \n",
       "Martha                    4.0    5.0      4.3  \n",
       "Roberto                   NaN    NaN      3.5  \n",
       "Luis                      3.0    1.0      3.2  "
      ]
     },
     "execution_count": 4,
     "metadata": {},
     "output_type": "execute_result"
    }
   ],
   "source": [
    "ratings['Average'] = ratings.mean(axis = 1).round(1)\n",
    "ratings.head()"
   ]
  },
  {
   "cell_type": "markdown",
   "metadata": {},
   "source": [
    "## Calculate the average for each movie"
   ]
  },
  {
   "cell_type": "code",
   "execution_count": 6,
   "metadata": {},
   "outputs": [
    {
     "data": {
      "text/plain": [
       "The Matrix              3.8\n",
       "Mortal Kombat           2.5\n",
       "Independence Day        4.5\n",
       "Titanic                 4.2\n",
       "Silence of the Lambs    3.2\n",
       "Ghost                   3.8\n",
       "Average                 3.7\n",
       "dtype: float64"
      ]
     },
     "execution_count": 6,
     "metadata": {},
     "output_type": "execute_result"
    }
   ],
   "source": [
    "ratings.mean(axis = 'index').round(1)"
   ]
  },
  {
   "cell_type": "markdown",
   "metadata": {},
   "source": [
    "## Showing the original data"
   ]
  },
  {
   "cell_type": "code",
   "execution_count": 7,
   "metadata": {},
   "outputs": [
    {
     "data": {
      "text/html": [
       "<div>\n",
       "<style scoped>\n",
       "    .dataframe tbody tr th:only-of-type {\n",
       "        vertical-align: middle;\n",
       "    }\n",
       "\n",
       "    .dataframe tbody tr th {\n",
       "        vertical-align: top;\n",
       "    }\n",
       "\n",
       "    .dataframe thead th {\n",
       "        text-align: right;\n",
       "    }\n",
       "</style>\n",
       "<table border=\"1\" class=\"dataframe\">\n",
       "  <thead>\n",
       "    <tr style=\"text-align: right;\">\n",
       "      <th></th>\n",
       "      <th>The Matrix</th>\n",
       "      <th>Mortal Kombat</th>\n",
       "      <th>Independence Day</th>\n",
       "      <th>Titanic</th>\n",
       "      <th>Silence of the Lambs</th>\n",
       "      <th>Ghost</th>\n",
       "    </tr>\n",
       "  </thead>\n",
       "  <tbody>\n",
       "    <tr>\n",
       "      <th>Maria</th>\n",
       "      <td>1.0</td>\n",
       "      <td>NaN</td>\n",
       "      <td>NaN</td>\n",
       "      <td>5.0</td>\n",
       "      <td>3.0</td>\n",
       "      <td>5.0</td>\n",
       "    </tr>\n",
       "    <tr>\n",
       "      <th>Michael</th>\n",
       "      <td>5.0</td>\n",
       "      <td>4.0</td>\n",
       "      <td>5.0</td>\n",
       "      <td>NaN</td>\n",
       "      <td>4.0</td>\n",
       "      <td>NaN</td>\n",
       "    </tr>\n",
       "    <tr>\n",
       "      <th>Martha</th>\n",
       "      <td>NaN</td>\n",
       "      <td>NaN</td>\n",
       "      <td>NaN</td>\n",
       "      <td>4.0</td>\n",
       "      <td>4.0</td>\n",
       "      <td>5.0</td>\n",
       "    </tr>\n",
       "    <tr>\n",
       "      <th>Roberto</th>\n",
       "      <td>4.0</td>\n",
       "      <td>3.0</td>\n",
       "      <td>4.0</td>\n",
       "      <td>3.0</td>\n",
       "      <td>NaN</td>\n",
       "      <td>NaN</td>\n",
       "    </tr>\n",
       "    <tr>\n",
       "      <th>Luis</th>\n",
       "      <td>5.0</td>\n",
       "      <td>2.0</td>\n",
       "      <td>5.0</td>\n",
       "      <td>NaN</td>\n",
       "      <td>3.0</td>\n",
       "      <td>1.0</td>\n",
       "    </tr>\n",
       "  </tbody>\n",
       "</table>\n",
       "</div>"
      ],
      "text/plain": [
       "         The Matrix  Mortal Kombat  Independence Day  Titanic  \\\n",
       "Maria           1.0            NaN               NaN      5.0   \n",
       "Michael         5.0            4.0               5.0      NaN   \n",
       "Martha          NaN            NaN               NaN      4.0   \n",
       "Roberto         4.0            3.0               4.0      3.0   \n",
       "Luis            5.0            2.0               5.0      NaN   \n",
       "\n",
       "         Silence of the Lambs  Ghost  \n",
       "Maria                     3.0    5.0  \n",
       "Michael                   4.0    NaN  \n",
       "Martha                    4.0    5.0  \n",
       "Roberto                   NaN    NaN  \n",
       "Luis                      3.0    1.0  "
      ]
     },
     "execution_count": 7,
     "metadata": {},
     "output_type": "execute_result"
    }
   ],
   "source": [
    "ratings = pd.read_csv('/Users/vguan/Documents/SPS/IS362/Week 7/movies.csv', index_col = 0)\n",
    "ratings.head()"
   ]
  },
  {
   "cell_type": "markdown",
   "metadata": {},
   "source": [
    "## Filling out missing values with a zero"
   ]
  },
  {
   "cell_type": "code",
   "execution_count": 8,
   "metadata": {},
   "outputs": [
    {
     "data": {
      "text/html": [
       "<div>\n",
       "<style scoped>\n",
       "    .dataframe tbody tr th:only-of-type {\n",
       "        vertical-align: middle;\n",
       "    }\n",
       "\n",
       "    .dataframe tbody tr th {\n",
       "        vertical-align: top;\n",
       "    }\n",
       "\n",
       "    .dataframe thead th {\n",
       "        text-align: right;\n",
       "    }\n",
       "</style>\n",
       "<table border=\"1\" class=\"dataframe\">\n",
       "  <thead>\n",
       "    <tr style=\"text-align: right;\">\n",
       "      <th></th>\n",
       "      <th>The Matrix</th>\n",
       "      <th>Mortal Kombat</th>\n",
       "      <th>Independence Day</th>\n",
       "      <th>Titanic</th>\n",
       "      <th>Silence of the Lambs</th>\n",
       "      <th>Ghost</th>\n",
       "    </tr>\n",
       "  </thead>\n",
       "  <tbody>\n",
       "    <tr>\n",
       "      <th>Maria</th>\n",
       "      <td>1</td>\n",
       "      <td>0</td>\n",
       "      <td>0</td>\n",
       "      <td>5</td>\n",
       "      <td>3</td>\n",
       "      <td>5</td>\n",
       "    </tr>\n",
       "    <tr>\n",
       "      <th>Michael</th>\n",
       "      <td>5</td>\n",
       "      <td>4</td>\n",
       "      <td>5</td>\n",
       "      <td>0</td>\n",
       "      <td>4</td>\n",
       "      <td>0</td>\n",
       "    </tr>\n",
       "    <tr>\n",
       "      <th>Martha</th>\n",
       "      <td>0</td>\n",
       "      <td>0</td>\n",
       "      <td>0</td>\n",
       "      <td>4</td>\n",
       "      <td>4</td>\n",
       "      <td>5</td>\n",
       "    </tr>\n",
       "    <tr>\n",
       "      <th>Roberto</th>\n",
       "      <td>4</td>\n",
       "      <td>3</td>\n",
       "      <td>4</td>\n",
       "      <td>3</td>\n",
       "      <td>0</td>\n",
       "      <td>0</td>\n",
       "    </tr>\n",
       "    <tr>\n",
       "      <th>Luis</th>\n",
       "      <td>5</td>\n",
       "      <td>2</td>\n",
       "      <td>5</td>\n",
       "      <td>0</td>\n",
       "      <td>3</td>\n",
       "      <td>1</td>\n",
       "    </tr>\n",
       "  </tbody>\n",
       "</table>\n",
       "</div>"
      ],
      "text/plain": [
       "        The Matrix Mortal Kombat Independence Day Titanic  \\\n",
       "Maria            1             0                0       5   \n",
       "Michael          5             4                5       0   \n",
       "Martha           0             0                0       4   \n",
       "Roberto          4             3                4       3   \n",
       "Luis             5             2                5       0   \n",
       "\n",
       "        Silence of the Lambs Ghost  \n",
       "Maria                      3     5  \n",
       "Michael                    4     0  \n",
       "Martha                     4     5  \n",
       "Roberto                    0     0  \n",
       "Luis                       3     1  "
      ]
     },
     "execution_count": 8,
     "metadata": {},
     "output_type": "execute_result"
    }
   ],
   "source": [
    "ratings = ratings.fillna('0')\n",
    "ratings.head()"
   ]
  },
  {
   "cell_type": "markdown",
   "metadata": {},
   "source": [
    "## Checking data type"
   ]
  },
  {
   "cell_type": "code",
   "execution_count": 9,
   "metadata": {},
   "outputs": [
    {
     "data": {
      "text/plain": [
       "The Matrix              object\n",
       "Mortal Kombat           object\n",
       "Independence Day        object\n",
       "Titanic                 object\n",
       "Silence of the Lambs    object\n",
       "Ghost                   object\n",
       "dtype: object"
      ]
     },
     "execution_count": 9,
     "metadata": {},
     "output_type": "execute_result"
    }
   ],
   "source": [
    "ratings.dtypes"
   ]
  },
  {
   "cell_type": "markdown",
   "metadata": {},
   "source": [
    "## Converting data types"
   ]
  },
  {
   "cell_type": "code",
   "execution_count": 12,
   "metadata": {},
   "outputs": [
    {
     "data": {
      "text/plain": [
       "The Matrix              float64\n",
       "Mortal Kombat           float64\n",
       "Independence Day        float64\n",
       "Titanic                 float64\n",
       "Silence of the Lambs    float64\n",
       "Ghost                   float64\n",
       "dtype: object"
      ]
     },
     "execution_count": 12,
     "metadata": {},
     "output_type": "execute_result"
    }
   ],
   "source": [
    "ratings[['The Matrix','Mortal Kombat','Independence Day','Titanic','Silence of the Lambs','Ghost']] = ratings[['The Matrix','Mortal Kombat','Independence Day','Titanic','Silence of the Lambs','Ghost']].apply(pd.to_numeric)\n",
    "ratings.dtypes"
   ]
  },
  {
   "cell_type": "markdown",
   "metadata": {},
   "source": [
    "## Normalizing using min and max "
   ]
  },
  {
   "cell_type": "code",
   "execution_count": 13,
   "metadata": {},
   "outputs": [
    {
     "data": {
      "text/html": [
       "<div>\n",
       "<style scoped>\n",
       "    .dataframe tbody tr th:only-of-type {\n",
       "        vertical-align: middle;\n",
       "    }\n",
       "\n",
       "    .dataframe tbody tr th {\n",
       "        vertical-align: top;\n",
       "    }\n",
       "\n",
       "    .dataframe thead th {\n",
       "        text-align: right;\n",
       "    }\n",
       "</style>\n",
       "<table border=\"1\" class=\"dataframe\">\n",
       "  <thead>\n",
       "    <tr style=\"text-align: right;\">\n",
       "      <th></th>\n",
       "      <th>The Matrix</th>\n",
       "      <th>Mortal Kombat</th>\n",
       "      <th>Independence Day</th>\n",
       "      <th>Titanic</th>\n",
       "      <th>Silence of the Lambs</th>\n",
       "      <th>Ghost</th>\n",
       "    </tr>\n",
       "  </thead>\n",
       "  <tbody>\n",
       "    <tr>\n",
       "      <th>Maria</th>\n",
       "      <td>0.2</td>\n",
       "      <td>0.00</td>\n",
       "      <td>0.0</td>\n",
       "      <td>1.0</td>\n",
       "      <td>0.75</td>\n",
       "      <td>1.0</td>\n",
       "    </tr>\n",
       "    <tr>\n",
       "      <th>Michael</th>\n",
       "      <td>1.0</td>\n",
       "      <td>1.00</td>\n",
       "      <td>1.0</td>\n",
       "      <td>0.0</td>\n",
       "      <td>1.00</td>\n",
       "      <td>0.0</td>\n",
       "    </tr>\n",
       "    <tr>\n",
       "      <th>Martha</th>\n",
       "      <td>0.0</td>\n",
       "      <td>0.00</td>\n",
       "      <td>0.0</td>\n",
       "      <td>0.8</td>\n",
       "      <td>1.00</td>\n",
       "      <td>1.0</td>\n",
       "    </tr>\n",
       "    <tr>\n",
       "      <th>Roberto</th>\n",
       "      <td>0.8</td>\n",
       "      <td>0.75</td>\n",
       "      <td>0.8</td>\n",
       "      <td>0.6</td>\n",
       "      <td>0.00</td>\n",
       "      <td>0.0</td>\n",
       "    </tr>\n",
       "    <tr>\n",
       "      <th>Luis</th>\n",
       "      <td>1.0</td>\n",
       "      <td>0.50</td>\n",
       "      <td>1.0</td>\n",
       "      <td>0.0</td>\n",
       "      <td>0.75</td>\n",
       "      <td>0.2</td>\n",
       "    </tr>\n",
       "  </tbody>\n",
       "</table>\n",
       "</div>"
      ],
      "text/plain": [
       "         The Matrix  Mortal Kombat  Independence Day  Titanic  \\\n",
       "Maria           0.2           0.00               0.0      1.0   \n",
       "Michael         1.0           1.00               1.0      0.0   \n",
       "Martha          0.0           0.00               0.0      0.8   \n",
       "Roberto         0.8           0.75               0.8      0.6   \n",
       "Luis            1.0           0.50               1.0      0.0   \n",
       "\n",
       "         Silence of the Lambs  Ghost  \n",
       "Maria                    0.75    1.0  \n",
       "Michael                  1.00    0.0  \n",
       "Martha                   1.00    1.0  \n",
       "Roberto                  0.00    0.0  \n",
       "Luis                     0.75    0.2  "
      ]
     },
     "execution_count": 13,
     "metadata": {},
     "output_type": "execute_result"
    }
   ],
   "source": [
    "ratings_norma = ratings.copy()\n",
    "for column in ratings_norma.columns:\n",
    "    ratings_norma[column] = (ratings_norma[column]-ratings_norma[column].min())/(ratings_norma[column].max()-ratings_norma[column].min())\n",
    "    \n",
    "ratings_norma.head()"
   ]
  },
  {
   "cell_type": "markdown",
   "metadata": {},
   "source": [
    "## Calculate the Average for each viewer"
   ]
  },
  {
   "cell_type": "code",
   "execution_count": 14,
   "metadata": {},
   "outputs": [
    {
     "data": {
      "text/html": [
       "<div>\n",
       "<style scoped>\n",
       "    .dataframe tbody tr th:only-of-type {\n",
       "        vertical-align: middle;\n",
       "    }\n",
       "\n",
       "    .dataframe tbody tr th {\n",
       "        vertical-align: top;\n",
       "    }\n",
       "\n",
       "    .dataframe thead th {\n",
       "        text-align: right;\n",
       "    }\n",
       "</style>\n",
       "<table border=\"1\" class=\"dataframe\">\n",
       "  <thead>\n",
       "    <tr style=\"text-align: right;\">\n",
       "      <th></th>\n",
       "      <th>The Matrix</th>\n",
       "      <th>Mortal Kombat</th>\n",
       "      <th>Independence Day</th>\n",
       "      <th>Titanic</th>\n",
       "      <th>Silence of the Lambs</th>\n",
       "      <th>Ghost</th>\n",
       "      <th>Average</th>\n",
       "    </tr>\n",
       "  </thead>\n",
       "  <tbody>\n",
       "    <tr>\n",
       "      <th>Maria</th>\n",
       "      <td>0.2</td>\n",
       "      <td>0.00</td>\n",
       "      <td>0.0</td>\n",
       "      <td>1.0</td>\n",
       "      <td>0.75</td>\n",
       "      <td>1.0</td>\n",
       "      <td>0.5</td>\n",
       "    </tr>\n",
       "    <tr>\n",
       "      <th>Michael</th>\n",
       "      <td>1.0</td>\n",
       "      <td>1.00</td>\n",
       "      <td>1.0</td>\n",
       "      <td>0.0</td>\n",
       "      <td>1.00</td>\n",
       "      <td>0.0</td>\n",
       "      <td>0.7</td>\n",
       "    </tr>\n",
       "    <tr>\n",
       "      <th>Martha</th>\n",
       "      <td>0.0</td>\n",
       "      <td>0.00</td>\n",
       "      <td>0.0</td>\n",
       "      <td>0.8</td>\n",
       "      <td>1.00</td>\n",
       "      <td>1.0</td>\n",
       "      <td>0.5</td>\n",
       "    </tr>\n",
       "    <tr>\n",
       "      <th>Roberto</th>\n",
       "      <td>0.8</td>\n",
       "      <td>0.75</td>\n",
       "      <td>0.8</td>\n",
       "      <td>0.6</td>\n",
       "      <td>0.00</td>\n",
       "      <td>0.0</td>\n",
       "      <td>0.5</td>\n",
       "    </tr>\n",
       "    <tr>\n",
       "      <th>Luis</th>\n",
       "      <td>1.0</td>\n",
       "      <td>0.50</td>\n",
       "      <td>1.0</td>\n",
       "      <td>0.0</td>\n",
       "      <td>0.75</td>\n",
       "      <td>0.2</td>\n",
       "      <td>0.6</td>\n",
       "    </tr>\n",
       "  </tbody>\n",
       "</table>\n",
       "</div>"
      ],
      "text/plain": [
       "         The Matrix  Mortal Kombat  Independence Day  Titanic  \\\n",
       "Maria           0.2           0.00               0.0      1.0   \n",
       "Michael         1.0           1.00               1.0      0.0   \n",
       "Martha          0.0           0.00               0.0      0.8   \n",
       "Roberto         0.8           0.75               0.8      0.6   \n",
       "Luis            1.0           0.50               1.0      0.0   \n",
       "\n",
       "         Silence of the Lambs  Ghost  Average  \n",
       "Maria                    0.75    1.0      0.5  \n",
       "Michael                  1.00    0.0      0.7  \n",
       "Martha                   1.00    1.0      0.5  \n",
       "Roberto                  0.00    0.0      0.5  \n",
       "Luis                     0.75    0.2      0.6  "
      ]
     },
     "execution_count": 14,
     "metadata": {},
     "output_type": "execute_result"
    }
   ],
   "source": [
    "ratings_norma['Average'] = ratings_norma.mean(axis = 1).round(1)\n",
    "ratings_norma.head()"
   ]
  },
  {
   "cell_type": "markdown",
   "metadata": {},
   "source": [
    "## Calculate the average for each movie"
   ]
  },
  {
   "cell_type": "code",
   "execution_count": 15,
   "metadata": {},
   "outputs": [
    {
     "data": {
      "text/plain": [
       "The Matrix              0.5\n",
       "Mortal Kombat           0.4\n",
       "Independence Day        0.5\n",
       "Titanic                 0.5\n",
       "Silence of the Lambs    0.6\n",
       "Ghost                   0.4\n",
       "Average                 0.5\n",
       "dtype: float64"
      ]
     },
     "execution_count": 15,
     "metadata": {},
     "output_type": "execute_result"
    }
   ],
   "source": [
    "ratings_norma.mean(axis = 'index').round(1)"
   ]
  },
  {
   "cell_type": "markdown",
   "metadata": {},
   "source": [
    "## One of the advantage of normalizing the ratings is that make it easier to storage but it also make them more difficult to read by users. The reason for this is because users are more familiar with the traditional rating scales from 1 to 5. Seeing the ratings from 0 to 1 could be a little confusing. "
   ]
  },
  {
   "cell_type": "markdown",
   "metadata": {},
   "source": [
    "## Load the original dataset to be standardized"
   ]
  },
  {
   "cell_type": "code",
   "execution_count": 23,
   "metadata": {},
   "outputs": [
    {
     "data": {
      "text/html": [
       "<div>\n",
       "<style scoped>\n",
       "    .dataframe tbody tr th:only-of-type {\n",
       "        vertical-align: middle;\n",
       "    }\n",
       "\n",
       "    .dataframe tbody tr th {\n",
       "        vertical-align: top;\n",
       "    }\n",
       "\n",
       "    .dataframe thead th {\n",
       "        text-align: right;\n",
       "    }\n",
       "</style>\n",
       "<table border=\"1\" class=\"dataframe\">\n",
       "  <thead>\n",
       "    <tr style=\"text-align: right;\">\n",
       "      <th></th>\n",
       "      <th>The Matrix</th>\n",
       "      <th>Mortal Kombat</th>\n",
       "      <th>Independence Day</th>\n",
       "      <th>Titanic</th>\n",
       "      <th>Silence of the Lambs</th>\n",
       "      <th>Ghost</th>\n",
       "    </tr>\n",
       "  </thead>\n",
       "  <tbody>\n",
       "    <tr>\n",
       "      <th>Maria</th>\n",
       "      <td>1.0</td>\n",
       "      <td>NaN</td>\n",
       "      <td>NaN</td>\n",
       "      <td>5.0</td>\n",
       "      <td>3.0</td>\n",
       "      <td>5.0</td>\n",
       "    </tr>\n",
       "    <tr>\n",
       "      <th>Michael</th>\n",
       "      <td>5.0</td>\n",
       "      <td>4.0</td>\n",
       "      <td>5.0</td>\n",
       "      <td>NaN</td>\n",
       "      <td>4.0</td>\n",
       "      <td>NaN</td>\n",
       "    </tr>\n",
       "    <tr>\n",
       "      <th>Martha</th>\n",
       "      <td>NaN</td>\n",
       "      <td>NaN</td>\n",
       "      <td>NaN</td>\n",
       "      <td>4.0</td>\n",
       "      <td>4.0</td>\n",
       "      <td>5.0</td>\n",
       "    </tr>\n",
       "    <tr>\n",
       "      <th>Roberto</th>\n",
       "      <td>4.0</td>\n",
       "      <td>3.0</td>\n",
       "      <td>4.0</td>\n",
       "      <td>3.0</td>\n",
       "      <td>NaN</td>\n",
       "      <td>NaN</td>\n",
       "    </tr>\n",
       "    <tr>\n",
       "      <th>Luis</th>\n",
       "      <td>5.0</td>\n",
       "      <td>2.0</td>\n",
       "      <td>5.0</td>\n",
       "      <td>NaN</td>\n",
       "      <td>3.0</td>\n",
       "      <td>1.0</td>\n",
       "    </tr>\n",
       "  </tbody>\n",
       "</table>\n",
       "</div>"
      ],
      "text/plain": [
       "         The Matrix  Mortal Kombat  Independence Day  Titanic  \\\n",
       "Maria           1.0            NaN               NaN      5.0   \n",
       "Michael         5.0            4.0               5.0      NaN   \n",
       "Martha          NaN            NaN               NaN      4.0   \n",
       "Roberto         4.0            3.0               4.0      3.0   \n",
       "Luis            5.0            2.0               5.0      NaN   \n",
       "\n",
       "         Silence of the Lambs  Ghost  \n",
       "Maria                     3.0    5.0  \n",
       "Michael                   4.0    NaN  \n",
       "Martha                    4.0    5.0  \n",
       "Roberto                   NaN    NaN  \n",
       "Luis                      3.0    1.0  "
      ]
     },
     "execution_count": 23,
     "metadata": {},
     "output_type": "execute_result"
    }
   ],
   "source": [
    "from sklearn.preprocessing import StandardScaler\n",
    "ratings = pd.read_csv('/Users/vguan/Documents/SPS/IS362/Week 7/movies.csv', index_col = 0)\n",
    "ratings.head()"
   ]
  },
  {
   "cell_type": "markdown",
   "metadata": {},
   "source": [
    "## Filing out missing values with a zero"
   ]
  },
  {
   "cell_type": "code",
   "execution_count": 24,
   "metadata": {},
   "outputs": [
    {
     "data": {
      "text/html": [
       "<div>\n",
       "<style scoped>\n",
       "    .dataframe tbody tr th:only-of-type {\n",
       "        vertical-align: middle;\n",
       "    }\n",
       "\n",
       "    .dataframe tbody tr th {\n",
       "        vertical-align: top;\n",
       "    }\n",
       "\n",
       "    .dataframe thead th {\n",
       "        text-align: right;\n",
       "    }\n",
       "</style>\n",
       "<table border=\"1\" class=\"dataframe\">\n",
       "  <thead>\n",
       "    <tr style=\"text-align: right;\">\n",
       "      <th></th>\n",
       "      <th>The Matrix</th>\n",
       "      <th>Mortal Kombat</th>\n",
       "      <th>Independence Day</th>\n",
       "      <th>Titanic</th>\n",
       "      <th>Silence of the Lambs</th>\n",
       "      <th>Ghost</th>\n",
       "    </tr>\n",
       "  </thead>\n",
       "  <tbody>\n",
       "    <tr>\n",
       "      <th>Maria</th>\n",
       "      <td>1</td>\n",
       "      <td>0</td>\n",
       "      <td>0</td>\n",
       "      <td>5</td>\n",
       "      <td>3</td>\n",
       "      <td>5</td>\n",
       "    </tr>\n",
       "    <tr>\n",
       "      <th>Michael</th>\n",
       "      <td>5</td>\n",
       "      <td>4</td>\n",
       "      <td>5</td>\n",
       "      <td>0</td>\n",
       "      <td>4</td>\n",
       "      <td>0</td>\n",
       "    </tr>\n",
       "    <tr>\n",
       "      <th>Martha</th>\n",
       "      <td>0</td>\n",
       "      <td>0</td>\n",
       "      <td>0</td>\n",
       "      <td>4</td>\n",
       "      <td>4</td>\n",
       "      <td>5</td>\n",
       "    </tr>\n",
       "    <tr>\n",
       "      <th>Roberto</th>\n",
       "      <td>4</td>\n",
       "      <td>3</td>\n",
       "      <td>4</td>\n",
       "      <td>3</td>\n",
       "      <td>0</td>\n",
       "      <td>0</td>\n",
       "    </tr>\n",
       "    <tr>\n",
       "      <th>Luis</th>\n",
       "      <td>5</td>\n",
       "      <td>2</td>\n",
       "      <td>5</td>\n",
       "      <td>0</td>\n",
       "      <td>3</td>\n",
       "      <td>1</td>\n",
       "    </tr>\n",
       "  </tbody>\n",
       "</table>\n",
       "</div>"
      ],
      "text/plain": [
       "        The Matrix Mortal Kombat Independence Day Titanic  \\\n",
       "Maria            1             0                0       5   \n",
       "Michael          5             4                5       0   \n",
       "Martha           0             0                0       4   \n",
       "Roberto          4             3                4       3   \n",
       "Luis             5             2                5       0   \n",
       "\n",
       "        Silence of the Lambs Ghost  \n",
       "Maria                      3     5  \n",
       "Michael                    4     0  \n",
       "Martha                     4     5  \n",
       "Roberto                    0     0  \n",
       "Luis                       3     1  "
      ]
     },
     "execution_count": 24,
     "metadata": {},
     "output_type": "execute_result"
    }
   ],
   "source": [
    "ratings = ratings.fillna('0')\n",
    "ratings.head()"
   ]
  },
  {
   "cell_type": "markdown",
   "metadata": {},
   "source": [
    "## Checking data types"
   ]
  },
  {
   "cell_type": "code",
   "execution_count": 25,
   "metadata": {},
   "outputs": [
    {
     "data": {
      "text/plain": [
       "The Matrix              object\n",
       "Mortal Kombat           object\n",
       "Independence Day        object\n",
       "Titanic                 object\n",
       "Silence of the Lambs    object\n",
       "Ghost                   object\n",
       "dtype: object"
      ]
     },
     "execution_count": 25,
     "metadata": {},
     "output_type": "execute_result"
    }
   ],
   "source": [
    "ratings.dtypes"
   ]
  },
  {
   "cell_type": "markdown",
   "metadata": {},
   "source": [
    "## Converting data type"
   ]
  },
  {
   "cell_type": "code",
   "execution_count": 26,
   "metadata": {},
   "outputs": [
    {
     "data": {
      "text/plain": [
       "The Matrix              float64\n",
       "Mortal Kombat           float64\n",
       "Independence Day        float64\n",
       "Titanic                 float64\n",
       "Silence of the Lambs    float64\n",
       "Ghost                   float64\n",
       "dtype: object"
      ]
     },
     "execution_count": 26,
     "metadata": {},
     "output_type": "execute_result"
    }
   ],
   "source": [
    "ratings[['The Matrix','Mortal Kombat','Independence Day','Titanic','Silence of the Lambs','Ghost']] = ratings[['The Matrix','Mortal Kombat','Independence Day','Titanic','Silence of the Lambs','Ghost']].apply(pd.to_numeric)\n",
    "ratings.dtypes"
   ]
  },
  {
   "cell_type": "markdown",
   "metadata": {},
   "source": [
    "## Standardized data"
   ]
  },
  {
   "cell_type": "code",
   "execution_count": 34,
   "metadata": {},
   "outputs": [
    {
     "data": {
      "text/html": [
       "<div>\n",
       "<style scoped>\n",
       "    .dataframe tbody tr th:only-of-type {\n",
       "        vertical-align: middle;\n",
       "    }\n",
       "\n",
       "    .dataframe tbody tr th {\n",
       "        vertical-align: top;\n",
       "    }\n",
       "\n",
       "    .dataframe thead th {\n",
       "        text-align: right;\n",
       "    }\n",
       "</style>\n",
       "<table border=\"1\" class=\"dataframe\">\n",
       "  <thead>\n",
       "    <tr style=\"text-align: right;\">\n",
       "      <th></th>\n",
       "      <th>The Matrix</th>\n",
       "      <th>Mortal Kombat</th>\n",
       "      <th>Independence Day</th>\n",
       "      <th>Titanic</th>\n",
       "      <th>Silence of the Lambs</th>\n",
       "      <th>Ghost</th>\n",
       "    </tr>\n",
       "  </thead>\n",
       "  <tbody>\n",
       "    <tr>\n",
       "      <th>0</th>\n",
       "      <td>-0.80904</td>\n",
       "      <td>-0.953463</td>\n",
       "      <td>-1.138420</td>\n",
       "      <td>1.171700</td>\n",
       "      <td>0.452679</td>\n",
       "      <td>1.280369</td>\n",
       "    </tr>\n",
       "    <tr>\n",
       "      <th>1</th>\n",
       "      <td>1.07872</td>\n",
       "      <td>1.716233</td>\n",
       "      <td>1.075174</td>\n",
       "      <td>-1.106606</td>\n",
       "      <td>1.086429</td>\n",
       "      <td>-0.960277</td>\n",
       "    </tr>\n",
       "    <tr>\n",
       "      <th>2</th>\n",
       "      <td>-1.28098</td>\n",
       "      <td>-0.953463</td>\n",
       "      <td>-1.138420</td>\n",
       "      <td>0.716039</td>\n",
       "      <td>1.086429</td>\n",
       "      <td>1.280369</td>\n",
       "    </tr>\n",
       "    <tr>\n",
       "      <th>3</th>\n",
       "      <td>0.60678</td>\n",
       "      <td>1.048809</td>\n",
       "      <td>0.632456</td>\n",
       "      <td>0.260378</td>\n",
       "      <td>-1.448572</td>\n",
       "      <td>-0.960277</td>\n",
       "    </tr>\n",
       "    <tr>\n",
       "      <th>4</th>\n",
       "      <td>1.07872</td>\n",
       "      <td>0.381385</td>\n",
       "      <td>1.075174</td>\n",
       "      <td>-1.106606</td>\n",
       "      <td>0.452679</td>\n",
       "      <td>-0.512148</td>\n",
       "    </tr>\n",
       "  </tbody>\n",
       "</table>\n",
       "</div>"
      ],
      "text/plain": [
       "   The Matrix  Mortal Kombat  Independence Day   Titanic  \\\n",
       "0    -0.80904      -0.953463         -1.138420  1.171700   \n",
       "1     1.07872       1.716233          1.075174 -1.106606   \n",
       "2    -1.28098      -0.953463         -1.138420  0.716039   \n",
       "3     0.60678       1.048809          0.632456  0.260378   \n",
       "4     1.07872       0.381385          1.075174 -1.106606   \n",
       "\n",
       "   Silence of the Lambs     Ghost  \n",
       "0              0.452679  1.280369  \n",
       "1              1.086429 -0.960277  \n",
       "2              1.086429  1.280369  \n",
       "3             -1.448572 -0.960277  \n",
       "4              0.452679 -0.512148  "
      ]
     },
     "execution_count": 34,
     "metadata": {},
     "output_type": "execute_result"
    }
   ],
   "source": [
    "ratings_stand = pd.DataFrame(StandardScaler().fit_transform(ratings))\n",
    "ratings_stand.rename(columns ={0:'The Matrix', 1:'Mortal Kombat',2:'Independence Day',3:'Titanic',4:'Silence of the Lambs',5:'Ghost'}, inplace = True)\n",
    "ratings_stand.head()"
   ]
  },
  {
   "cell_type": "markdown",
   "metadata": {},
   "source": [
    "## Shows the average for each viewer"
   ]
  },
  {
   "cell_type": "code",
   "execution_count": 41,
   "metadata": {},
   "outputs": [
    {
     "data": {
      "text/html": [
       "<div>\n",
       "<style scoped>\n",
       "    .dataframe tbody tr th:only-of-type {\n",
       "        vertical-align: middle;\n",
       "    }\n",
       "\n",
       "    .dataframe tbody tr th {\n",
       "        vertical-align: top;\n",
       "    }\n",
       "\n",
       "    .dataframe thead th {\n",
       "        text-align: right;\n",
       "    }\n",
       "</style>\n",
       "<table border=\"1\" class=\"dataframe\">\n",
       "  <thead>\n",
       "    <tr style=\"text-align: right;\">\n",
       "      <th></th>\n",
       "      <th>The Matrix</th>\n",
       "      <th>Mortal Kombat</th>\n",
       "      <th>Independence Day</th>\n",
       "      <th>Titanic</th>\n",
       "      <th>Silence of the Lambs</th>\n",
       "      <th>Ghost</th>\n",
       "      <th>Average</th>\n",
       "    </tr>\n",
       "  </thead>\n",
       "  <tbody>\n",
       "    <tr>\n",
       "      <th>0</th>\n",
       "      <td>-0.80904</td>\n",
       "      <td>-0.953463</td>\n",
       "      <td>-1.138420</td>\n",
       "      <td>1.171700</td>\n",
       "      <td>0.452679</td>\n",
       "      <td>1.280369</td>\n",
       "      <td>0.000546</td>\n",
       "    </tr>\n",
       "    <tr>\n",
       "      <th>1</th>\n",
       "      <td>1.07872</td>\n",
       "      <td>1.716233</td>\n",
       "      <td>1.075174</td>\n",
       "      <td>-1.106606</td>\n",
       "      <td>1.086429</td>\n",
       "      <td>-0.960277</td>\n",
       "      <td>0.484239</td>\n",
       "    </tr>\n",
       "    <tr>\n",
       "      <th>2</th>\n",
       "      <td>-1.28098</td>\n",
       "      <td>-0.953463</td>\n",
       "      <td>-1.138420</td>\n",
       "      <td>0.716039</td>\n",
       "      <td>1.086429</td>\n",
       "      <td>1.280369</td>\n",
       "      <td>-0.041432</td>\n",
       "    </tr>\n",
       "    <tr>\n",
       "      <th>3</th>\n",
       "      <td>0.60678</td>\n",
       "      <td>1.048809</td>\n",
       "      <td>0.632456</td>\n",
       "      <td>0.260378</td>\n",
       "      <td>-1.448572</td>\n",
       "      <td>-0.960277</td>\n",
       "      <td>0.019939</td>\n",
       "    </tr>\n",
       "    <tr>\n",
       "      <th>4</th>\n",
       "      <td>1.07872</td>\n",
       "      <td>0.381385</td>\n",
       "      <td>1.075174</td>\n",
       "      <td>-1.106606</td>\n",
       "      <td>0.452679</td>\n",
       "      <td>-0.512148</td>\n",
       "      <td>0.224172</td>\n",
       "    </tr>\n",
       "  </tbody>\n",
       "</table>\n",
       "</div>"
      ],
      "text/plain": [
       "   The Matrix  Mortal Kombat  Independence Day   Titanic  \\\n",
       "0    -0.80904      -0.953463         -1.138420  1.171700   \n",
       "1     1.07872       1.716233          1.075174 -1.106606   \n",
       "2    -1.28098      -0.953463         -1.138420  0.716039   \n",
       "3     0.60678       1.048809          0.632456  0.260378   \n",
       "4     1.07872       0.381385          1.075174 -1.106606   \n",
       "\n",
       "   Silence of the Lambs     Ghost   Average  \n",
       "0              0.452679  1.280369  0.000546  \n",
       "1              1.086429 -0.960277  0.484239  \n",
       "2              1.086429  1.280369 -0.041432  \n",
       "3             -1.448572 -0.960277  0.019939  \n",
       "4              0.452679 -0.512148  0.224172  "
      ]
     },
     "execution_count": 41,
     "metadata": {},
     "output_type": "execute_result"
    }
   ],
   "source": [
    "ratings_stand['Average'] = ratings_stand.mean(axis = 1)\n",
    "ratings_stand.head()"
   ]
  },
  {
   "cell_type": "markdown",
   "metadata": {},
   "source": [
    "## Shows the average for each movie"
   ]
  },
  {
   "cell_type": "code",
   "execution_count": 42,
   "metadata": {
    "scrolled": true
   },
   "outputs": [
    {
     "data": {
      "text/plain": [
       "The Matrix             -9.516197e-17\n",
       "Mortal Kombat          -6.344132e-17\n",
       "Independence Day       -9.516197e-17\n",
       "Titanic                 6.344132e-17\n",
       "Silence of the Lambs    1.268826e-16\n",
       "Ghost                   4.758099e-17\n",
       "Average                 2.040816e-03\n",
       "dtype: float64"
      ]
     },
     "execution_count": 42,
     "metadata": {},
     "output_type": "execute_result"
    }
   ],
   "source": [
    "ratings_stand.mean(axis = 'index')"
   ]
  }
 ],
 "metadata": {
  "kernelspec": {
   "display_name": "Python 3",
   "language": "python",
   "name": "python3"
  },
  "language_info": {
   "codemirror_mode": {
    "name": "ipython",
    "version": 3
   },
   "file_extension": ".py",
   "mimetype": "text/x-python",
   "name": "python",
   "nbconvert_exporter": "python",
   "pygments_lexer": "ipython3",
   "version": "3.8.5"
  }
 },
 "nbformat": 4,
 "nbformat_minor": 4
}
